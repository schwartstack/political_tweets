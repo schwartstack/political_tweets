{
 "cells": [
  {
   "cell_type": "code",
   "execution_count": 1,
   "metadata": {},
   "outputs": [],
   "source": [
    "import numpy as np\n",
    "import pandas as pd\n",
    "from PIL import Image\n",
    "import matplotlib.pyplot as plt\n",
    "%matplotlib inline\n",
    "plt.rcParams['figure.figsize'] = [10, 4] # sets the size of figures in this notebook\n",
    "\n",
    "data = pd.read_csv(\"ExtractedTweets.csv\")"
   ]
  },
  {
   "cell_type": "code",
   "execution_count": 1,
   "metadata": {},
   "outputs": [
    {
     "ename": "NameError",
     "evalue": "name 'np' is not defined",
     "output_type": "error",
     "traceback": [
      "\u001b[0;31m---------------------------------------------------------------------------\u001b[0m",
      "\u001b[0;31mNameError\u001b[0m                                 Traceback (most recent call last)",
      "\u001b[0;32m<ipython-input-1-4d78e0e8f2b8>\u001b[0m in \u001b[0;36m<module>\u001b[0;34m\u001b[0m\n\u001b[1;32m      1\u001b[0m \u001b[0;31m#average number of words and characters per tweet\u001b[0m\u001b[0;34m\u001b[0m\u001b[0;34m\u001b[0m\u001b[0;34m\u001b[0m\u001b[0m\n\u001b[1;32m      2\u001b[0m \u001b[0;34m\u001b[0m\u001b[0m\n\u001b[0;32m----> 3\u001b[0;31m avchar = [np.mean([len(x) for x in data[data.Party==\"Democrat\"].Tweet]),\n\u001b[0m\u001b[1;32m      4\u001b[0m           \u001b[0mnp\u001b[0m\u001b[0;34m.\u001b[0m\u001b[0mmean\u001b[0m\u001b[0;34m(\u001b[0m\u001b[0;34m[\u001b[0m\u001b[0mlen\u001b[0m\u001b[0;34m(\u001b[0m\u001b[0mx\u001b[0m\u001b[0;34m)\u001b[0m \u001b[0;32mfor\u001b[0m \u001b[0mx\u001b[0m \u001b[0;32min\u001b[0m \u001b[0mdata\u001b[0m\u001b[0;34m[\u001b[0m\u001b[0mdata\u001b[0m\u001b[0;34m.\u001b[0m\u001b[0mParty\u001b[0m\u001b[0;34m==\u001b[0m\u001b[0;34m\"Republican\"\u001b[0m\u001b[0;34m]\u001b[0m\u001b[0;34m.\u001b[0m\u001b[0mTweet\u001b[0m\u001b[0;34m]\u001b[0m\u001b[0;34m)\u001b[0m\u001b[0;34m,\u001b[0m\u001b[0;34m\u001b[0m\u001b[0;34m\u001b[0m\u001b[0m\n\u001b[1;32m      5\u001b[0m           np.mean([len(x) for x in data.Tweet])]\n",
      "\u001b[0;31mNameError\u001b[0m: name 'np' is not defined"
     ]
    }
   ],
   "source": [
    "#average number of words and characters per tweet\n",
    "\n",
    "avchar = [np.mean([len(x) for x in data[data.Party==\"Democrat\"].Tweet]),\n",
    "          np.mean([len(x) for x in data[data.Party==\"Republican\"].Tweet]),\n",
    "          np.mean([len(x) for x in data.Tweet])]\n",
    "\n",
    "avword = [np.mean([len(x.split()) for x in data[data.Party==\"Democrat\"].Tweet]),\n",
    "          np.mean([len(x.split()) for x in data[data.Party==\"Republican\"].Tweet]),\n",
    "          np.mean([len(x.split()) for x in data.Tweet])]\n",
    "\n",
    "sdchar = [np.sqrt(np.var([len(x) for x in data[data.Party==\"Democrat\"].Tweet])),\n",
    "          np.sqrt(np.var([len(x) for x in data[data.Party==\"Republican\"].Tweet])),\n",
    "          np.sqrt(np.var([len(x) for x in data.Tweet]))]\n",
    "\n",
    "sdword = [np.sqrt(np.var([len(x.split()) for x in data[data.Party==\"Democrat\"].Tweet])),\n",
    "          np.sqrt(np.var([len(x.split()) for x in data[data.Party==\"Republican\"].Tweet])),\n",
    "          np.sqrt(np.var([len(x.split()) for x in data.Tweet]))]\n",
    "\n",
    "plt.rcParams['figure.figsize'] = [16, 5]\n",
    "\n",
    "plt.subplot(1,2,1)\n",
    "plt.bar(range(3),avchar,color=[\"royalblue\",\"crimson\",\"grey\"],yerr = sdchar,capsize=10)\n",
    "plt.xticks(range(3),[\"Democrat\",\"Republican\",\"Total\"])\n",
    "plt.ylabel(\"characters\")\n",
    "plt.title(\"Average number of characters per tweet\")\n",
    "\n",
    "plt.subplot(1, 2, 2)\n",
    "plt.bar(range(3),avword,color=[\"royalblue\",\"crimson\",\"grey\"],yerr = sdword,capsize=10)\n",
    "plt.xticks(range(3),[\"Democrat\",\"Republican\",\"Total\"])\n",
    "plt.ylabel(\"words\")\n",
    "plt.title(\"Average number of words per tweet\")"
   ]
  },
  {
   "cell_type": "code",
   "execution_count": 46,
   "metadata": {},
   "outputs": [
    {
     "data": {
      "text/plain": [
       "Text(0.5, 1.0, 'Average number of words per tweet')"
      ]
     },
     "execution_count": 46,
     "metadata": {},
     "output_type": "execute_result"
    },
    {
     "data": {
      "image/png": "[encoded data removed]",
      "text/plain": [
       "<Figure size 1152x360 with 2 Axes>"
      ]
     },
     "metadata": {
      "needs_background": "light"
     },
     "output_type": "display_data"
    }
   ],
   "source": []
  },
  {
   "cell_type": "code",
   "execution_count": 17,
   "metadata": {
    "scrolled": true
   },
   "outputs": [
    {
     "data": {
      "text/plain": [
       "211"
      ]
     },
     "execution_count": 17,
     "metadata": {},
     "output_type": "execute_result"
    }
   ],
   "source": [
    "demhandles = [handle for handle in set(data[data.Party==\"Democrat\"].Handle.values)]\n",
    "\n",
    "len(demhandles)"
   ]
  },
  {
   "cell_type": "code",
   "execution_count": 18,
   "metadata": {},
   "outputs": [
    {
     "data": {
      "text/plain": [
       "222"
      ]
     },
     "execution_count": 18,
     "metadata": {},
     "output_type": "execute_result"
    }
   ],
   "source": [
    "rephandles = [handle for handle in set(data[data.Party==\"Republican\"].Handle.values)]\n",
    "\n",
    "len(rephandles)"
   ]
  },
  {
   "cell_type": "code",
   "execution_count": 133,
   "metadata": {},
   "outputs": [
    {
     "data": {
      "text/html": [
       "<div>\n",
       "<style scoped>\n",
       "    .dataframe tbody tr th:only-of-type {\n",
       "        vertical-align: middle;\n",
       "    }\n",
       "\n",
       "    .dataframe tbody tr th {\n",
       "        vertical-align: top;\n",
       "    }\n",
       "\n",
       "    .dataframe thead th {\n",
       "        text-align: right;\n",
       "    }\n",
       "</style>\n",
       "<table border=\"1\" class=\"dataframe\">\n",
       "  <thead>\n",
       "    <tr style=\"text-align: right;\">\n",
       "      <th></th>\n",
       "      <th>hash</th>\n",
       "      <th>num</th>\n",
       "    </tr>\n",
       "  </thead>\n",
       "  <tbody>\n",
       "    <tr>\n",
       "      <th>56</th>\n",
       "      <td>#GOPTaxScam</td>\n",
       "      <td>457</td>\n",
       "    </tr>\n",
       "    <tr>\n",
       "      <th>306</th>\n",
       "      <td>#DACA</td>\n",
       "      <td>192</td>\n",
       "    </tr>\n",
       "    <tr>\n",
       "      <th>1</th>\n",
       "      <td>#NetNeutrality</td>\n",
       "      <td>187</td>\n",
       "    </tr>\n",
       "    <tr>\n",
       "      <th>167</th>\n",
       "      <td>#2020Census</td>\n",
       "      <td>95</td>\n",
       "    </tr>\n",
       "    <tr>\n",
       "      <th>476</th>\n",
       "      <td>#SOTU</td>\n",
       "      <td>94</td>\n",
       "    </tr>\n",
       "  </tbody>\n",
       "</table>\n",
       "</div>"
      ],
      "text/plain": [
       "               hash  num\n",
       "56      #GOPTaxScam  457\n",
       "306           #DACA  192\n",
       "1    #NetNeutrality  187\n",
       "167     #2020Census   95\n",
       "476           #SOTU   94"
      ]
     },
     "execution_count": 133,
     "metadata": {},
     "output_type": "execute_result"
    }
   ],
   "source": [
    "demtweets = data[data.Party==\"Democrat\"].Tweet.values\n",
    "\n",
    "demhash = [word for word in \" \".join(demtweets).split() if word.startswith(\"#\")]\n",
    "\n",
    "d = {}\n",
    "\n",
    "for word in demhash:\n",
    "    d[word] = d.get(word,0) + 1\n",
    "\n",
    "dh = pd.DataFrame({\"hash\":list(d.keys()),\"num\":list(d.values())})\n",
    "\n",
    "dh = dh.sort_values(\"num\",ascending=False).head()\n",
    "\n",
    "dh"
   ]
  },
  {
   "cell_type": "code",
   "execution_count": 131,
   "metadata": {
    "scrolled": true
   },
   "outputs": [
    {
     "data": {
      "text/html": [
       "<div>\n",
       "<style scoped>\n",
       "    .dataframe tbody tr th:only-of-type {\n",
       "        vertical-align: middle;\n",
       "    }\n",
       "\n",
       "    .dataframe tbody tr th {\n",
       "        vertical-align: top;\n",
       "    }\n",
       "\n",
       "    .dataframe thead th {\n",
       "        text-align: right;\n",
       "    }\n",
       "</style>\n",
       "<table border=\"1\" class=\"dataframe\">\n",
       "  <thead>\n",
       "    <tr style=\"text-align: right;\">\n",
       "      <th></th>\n",
       "      <th>hash</th>\n",
       "      <th>num</th>\n",
       "    </tr>\n",
       "  </thead>\n",
       "  <tbody>\n",
       "    <tr>\n",
       "      <th>21</th>\n",
       "      <td>#TaxReform</td>\n",
       "      <td>425</td>\n",
       "    </tr>\n",
       "    <tr>\n",
       "      <th>13</th>\n",
       "      <td>#TaxCutsandJobsAct</td>\n",
       "      <td>338</td>\n",
       "    </tr>\n",
       "    <tr>\n",
       "      <th>7</th>\n",
       "      <td>#taxreform</td>\n",
       "      <td>235</td>\n",
       "    </tr>\n",
       "    <tr>\n",
       "      <th>257</th>\n",
       "      <td>#SOTU</td>\n",
       "      <td>213</td>\n",
       "    </tr>\n",
       "    <tr>\n",
       "      <th>105</th>\n",
       "      <td>#TaxDay</td>\n",
       "      <td>125</td>\n",
       "    </tr>\n",
       "  </tbody>\n",
       "</table>\n",
       "</div>"
      ],
      "text/plain": [
       "                   hash  num\n",
       "21           #TaxReform  425\n",
       "13   #TaxCutsandJobsAct  338\n",
       "7            #taxreform  235\n",
       "257               #SOTU  213\n",
       "105             #TaxDay  125"
      ]
     },
     "execution_count": 131,
     "metadata": {},
     "output_type": "execute_result"
    }
   ],
   "source": [
    "reptweets = data[data.Party==\"Republican\"].Tweet.values\n",
    "\n",
    "rephash = [word for word in \" \".join(reptweets).split() if word.startswith(\"#\")]\n",
    "\n",
    "d = {}\n",
    "\n",
    "for word in rephash:\n",
    "    d[word] = d.get(word,0) + 1\n",
    "\n",
    "rh = pd.DataFrame({\"hash\":list(d.keys()),\"num\":list(d.values())})\n",
    "\n",
    "rh = rh.sort_values(\"num\",ascending=False).head()\n",
    "\n",
    "rh"
   ]
  },
  {
   "cell_type": "code",
   "execution_count": 137,
   "metadata": {
    "scrolled": true
   },
   "outputs": [
    {
     "data": {
      "image/png": "[encoded data removed]",
      "text/plain": [
       "<Figure size 432x288 with 1 Axes>"
      ]
     },
     "metadata": {
      "needs_background": "light"
     },
     "output_type": "display_data"
    }
   ],
   "source": [
    "plt.bar(range(5),rh.num,color=\"crimson\")\n",
    "plt.xticks(np.arange(0,5), rh.hash, rotation=45)\n",
    "plt.tick_params(axis='x',which='both',bottom=False)\n",
    "plt.title(\"Most common hashtags in Republican tweets\")\n",
    "plt.ylim([0,475]);"
   ]
  },
  {
   "cell_type": "code",
   "execution_count": 138,
   "metadata": {
    "scrolled": true
   },
   "outputs": [
    {
     "data": {
      "image/png": "[encoded data removed]",
      "text/plain": [
       "<Figure size 432x288 with 1 Axes>"
      ]
     },
     "metadata": {
      "needs_background": "light"
     },
     "output_type": "display_data"
    }
   ],
   "source": [
    "plt.bar(range(5),dh.num,color=\"blue\")\n",
    "plt.xticks(np.arange(0,5), dh.hash, rotation=45)\n",
    "plt.tick_params(axis='x',which='both',bottom=False)\n",
    "plt.title(\"Most common hashtags in Democrat tweets\")\n",
    "plt.ylim([0,475]);"
   ]
  },
  {
   "cell_type": "code",
   "execution_count": null,
   "metadata": {},
   "outputs": [],
   "source": []
  }
 ],
 "metadata": {
  "kernelspec": {
   "display_name": "Python 3",
   "language": "python",
   "name": "python3"
  },
  "language_info": {
   "codemirror_mode": {
    "name": "ipython",
    "version": 3
   },
   "file_extension": ".py",
   "mimetype": "text/x-python",
   "name": "python",
   "nbconvert_exporter": "python",
   "pygments_lexer": "ipython3",
   "version": "3.7.3"
  }
 },
 "nbformat": 4,
 "nbformat_minor": 2
}
