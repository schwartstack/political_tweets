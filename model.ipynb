{
 "cells": [
  {
   "cell_type": "code",
   "execution_count": 1,
   "metadata": {},
   "outputs": [],
   "source": [
    "from sklearn.naive_bayes import MultinomialNB\n",
    "from sklearn.pipeline import make_pipeline\n",
    "from sklearn.feature_extraction.text import TfidfVectorizer\n",
    "import numpy as np\n",
    "import pandas as pd\n",
    "import matplotlib.pyplot as plt\n",
    "from scipy import stats\n",
    "%matplotlib inline\n",
    "plt.rcParams['figure.figsize'] = [10, 4] # sets the size of figures in this notebook\n",
    "\n",
    "data = pd.read_csv(\"ExtractedTweets.csv\")"
   ]
  },
  {
   "cell_type": "code",
   "execution_count": 2,
   "metadata": {
    "scrolled": true
   },
   "outputs": [],
   "source": [
    "#Using about 80% of data to train and 20% of data to test\n",
    "\n",
    "np.random.seed(1855)\n",
    "train_index = sorted(np.random.choice(range(data.shape[0]),69168,replace=False)) #69168 = .8 * 86460\n",
    "test_index = np.delete(range(data.shape[0]),train_index)\n",
    "\n",
    "train_data = data.Tweet.values[train_index]\n",
    "test_data = data.Tweet.values[test_index]\n",
    "train_labels = data.Party.values[train_index]\n",
    "test_labels = data.Party.values[test_index]\n",
    "\n",
    "model = make_pipeline(TfidfVectorizer(), MultinomialNB()) #applying first the tf idf method and then Multinomial naive Bayes\n",
    "model.fit(train_data, train_labels) # fit model\n",
    "labels = model.predict(test_data) # predict labels"
   ]
  },
  {
   "cell_type": "code",
   "execution_count": 3,
   "metadata": {},
   "outputs": [
    {
     "data": {
      "text/plain": [
       "0.8011219060837381"
      ]
     },
     "execution_count": 3,
     "metadata": {},
     "output_type": "execute_result"
    }
   ],
   "source": [
    "np.sum(labels == test_labels)/len(test_labels) #correctly predicts about 80% of labels"
   ]
  },
  {
   "cell_type": "code",
   "execution_count": 4,
   "metadata": {},
   "outputs": [
    {
     "name": "stdout",
     "output_type": "stream",
     "text": [
      "Republican\n",
      "Democrat\n"
     ]
    }
   ],
   "source": [
    "#predicting new labels\n",
    "def predict_party(tweet):\n",
    "    return(model.predict(np.array([tweet]))[0])\n",
    "\n",
    "print(predict_party(\"I think we should lower taxes\"))\n",
    "\n",
    "print(predict_party(\"I think we should help the poor\"))"
   ]
  },
  {
   "cell_type": "code",
   "execution_count": 5,
   "metadata": {
    "scrolled": true
   },
   "outputs": [
    {
     "data": {
      "image/png": "[encoded data removed]",
      "text/plain": [
       "<Figure size 432x288 with 1 Axes>"
      ]
     },
     "metadata": {
      "needs_background": "light"
     },
     "output_type": "display_data"
    }
   ],
   "source": [
    "#confusion matrix\n",
    "from sklearn.metrics import confusion_matrix\n",
    "cm = confusion_matrix(test_labels, labels) # creates confusion matrix\n",
    "\n",
    "fig, ax = plt.subplots()\n",
    "ax.imshow(cm, cmap='OrRd') # making the heat-map image \n",
    "ax.set_xticks(np.arange(2)) # define tick-mark positions\n",
    "ax.set_yticks(np.arange(2))\n",
    "ax.set_xticklabels(np.array([\"Democrat\",\"Republican\"]), rotation = 90) # label ticks with newsgroups\n",
    "ax.set_yticklabels(np.array([\"Democrat\",\"Republican\"])) \n",
    "ax.set_ylim(len(cm)-0.5, -0.5) # there is a bug in matplotlib that offsets y-limits in heatmaps\n",
    "\n",
    "for i in range(2): # Loop over data dimensions and create text annotations:\n",
    "    for j in range(2):\n",
    "        text = ax.text(j, i, cm[i, j], ha=\"center\", va=\"center\", color=\"k\")\n",
    "ax.set_title(\"Confusion Matrix\");"
   ]
  },
  {
   "cell_type": "code",
   "execution_count": 6,
   "metadata": {},
   "outputs": [
    {
     "data": {
      "text/plain": [
       "'Republican'"
      ]
     },
     "execution_count": 6,
     "metadata": {},
     "output_type": "execute_result"
    }
   ],
   "source": [
    "#ted cruz's latest tweet\n",
    "\n",
    "predict_party(\"\"\"A whole lot of people in America have been sleeping on the danger that #China poses... \n",
    "@MichaelJKnowles\n",
    " and I discuss in the latest episode of #Verdict: https://youtube.com/watch?v=h3PQ3MQ5j7A\"\"\")"
   ]
  },
  {
   "cell_type": "code",
   "execution_count": 7,
   "metadata": {
    "scrolled": true
   },
   "outputs": [
    {
     "data": {
      "text/plain": [
       "'Democrat'"
      ]
     },
     "execution_count": 7,
     "metadata": {},
     "output_type": "execute_result"
    }
   ],
   "source": [
    "#bernie sander's latest tweet\n",
    "\n",
    "predict_party(\"\"\"The Walton family is worth $165.7 billion. Do we really need to have families in America worth more than $100 billion? \n",
    "\n",
    "When half of our people live paycheck to paycheck? \n",
    "\n",
    "Let us, together, have the courage to take on the greed of the corporate elite.\"\"\")"
   ]
  },
  {
   "cell_type": "code",
   "execution_count": 8,
   "metadata": {},
   "outputs": [
    {
     "data": {
      "text/plain": [
       "'Democrat'"
      ]
     },
     "execution_count": 8,
     "metadata": {},
     "output_type": "execute_result"
    }
   ],
   "source": [
    "#elizabeth warren's latest tweet\n",
    "\n",
    "predict_party(\"\"\"Jared Kushner shouldn’t be overseeing anything—much less part of a national response to this crisis.\n",
    "\n",
    "We need a bold, actionable plan that prepares us for a post-coronavirus economy that keeps our communities safe—not a vision board from these two.\"\"\")"
   ]
  },
  {
   "cell_type": "code",
   "execution_count": 13,
   "metadata": {},
   "outputs": [
    {
     "data": {
      "text/plain": [
       "'Democrat'"
      ]
     },
     "execution_count": 13,
     "metadata": {},
     "output_type": "execute_result"
    }
   ],
   "source": [
    "predict_party(\"\")"
   ]
  },
  {
   "cell_type": "code",
   "execution_count": null,
   "metadata": {},
   "outputs": [],
   "source": []
  }
 ],
 "metadata": {
  "kernelspec": {
   "display_name": "Python 3",
   "language": "python",
   "name": "python3"
  },
  "language_info": {
   "codemirror_mode": {
    "name": "ipython",
    "version": 3
   },
   "file_extension": ".py",
   "mimetype": "text/x-python",
   "name": "python",
   "nbconvert_exporter": "python",
   "pygments_lexer": "ipython3",
   "version": "3.7.3"
  }
 },
 "nbformat": 4,
 "nbformat_minor": 2
}
